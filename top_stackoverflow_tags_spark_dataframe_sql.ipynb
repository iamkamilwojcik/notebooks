{
 "cells": [
  {
   "cell_type": "code",
   "execution_count": null,
   "metadata": {},
   "outputs": [],
   "source": [
    "# Top stackoverflow tags\n",
    "Dataset: https://www.kaggle.com/iancuv/stackoverflow-question-favourites"
   ]
  },
  {
   "cell_type": "code",
   "execution_count": 7,
   "metadata": {},
   "outputs": [],
   "source": [
    "from pyspark.sql import SparkSession\n",
    "from pyspark.sql.types import StructType, StructField, StringType, IntegerType, DateType, DoubleType, TimestampType"
   ]
  },
  {
   "cell_type": "code",
   "execution_count": 4,
   "metadata": {},
   "outputs": [],
   "source": [
    "spark = SparkSession.builder.appName(\"stackoverflow_tags\").master(\"local[*]\").getOrCreate()"
   ]
  },
  {
   "cell_type": "code",
   "execution_count": 9,
   "metadata": {},
   "outputs": [],
   "source": [
    "questions_schema = StructType([\n",
    "    StructField(\"Id\", IntegerType()), \n",
    "    StructField(\"CreationDate\", TimestampType()),\n",
    "    StructField(\"ClosedDate\", TimestampType()),\n",
    "    StructField(\"DeletionDate\", TimestampType()),\n",
    "    StructField(\"Score\", IntegerType()),\n",
    "    StructField(\"OwnerUserId\", IntegerType()),\n",
    "    StructField(\"AnswerCount\", IntegerType()),\n",
    "])\n",
    "\n",
    "question_tag_schema = StructType([\n",
    "    StructField(\"Id\", IntegerType()), \n",
    "    StructField(\"Tag\", StringType()),\n",
    "])"
   ]
  },
  {
   "cell_type": "code",
   "execution_count": 14,
   "metadata": {},
   "outputs": [],
   "source": [
    "questions = spark.read.csv(\"data/questions.csv\", schema=questions_schema, header=\"true\", sep=\",\",  nullValue = \"NA\")\n",
    "question_tags = spark.read.csv(\"data/question_tags.csv\", schema=question_tag_schema, header=\"true\", sep=\",\", nullValue=\"NA\")"
   ]
  },
  {
   "cell_type": "code",
   "execution_count": 16,
   "metadata": {},
   "outputs": [
    {
     "name": "stdout",
     "output_type": "stream",
     "text": [
      "root\n",
      " |-- Id: integer (nullable = true)\n",
      " |-- CreationDate: timestamp (nullable = true)\n",
      " |-- ClosedDate: timestamp (nullable = true)\n",
      " |-- DeletionDate: timestamp (nullable = true)\n",
      " |-- Score: integer (nullable = true)\n",
      " |-- OwnerUserId: integer (nullable = true)\n",
      " |-- AnswerCount: integer (nullable = true)\n",
      "\n",
      "root\n",
      " |-- Id: integer (nullable = true)\n",
      " |-- Tag: string (nullable = true)\n",
      "\n"
     ]
    }
   ],
   "source": [
    "questions.printSchema()\n",
    "question_tags.printSchema()"
   ]
  },
  {
   "cell_type": "code",
   "execution_count": 27,
   "metadata": {},
   "outputs": [
    {
     "name": "stdout",
     "output_type": "stream",
     "text": [
      "+---+---------------+\n",
      "| Id|            Tag|\n",
      "+---+---------------+\n",
      "|  1|           data|\n",
      "|  4|             c#|\n",
      "|  4|       winforms|\n",
      "|  4|type-conversion|\n",
      "|  4|        decimal|\n",
      "+---+---------------+\n",
      "only showing top 5 rows\n",
      "\n"
     ]
    }
   ],
   "source": [
    "questions.createOrReplaceTempView(\"questions\")\n",
    "question_tags.createOrReplaceTempView(\"question_tags\")"
   ]
  },
  {
   "cell_type": "code",
   "execution_count": 38,
   "metadata": {},
   "outputs": [],
   "source": [
    "top_tags=spark.sql(\"\"\"\n",
    "SELECT \n",
    "Tag, COUNT(1) as cnt\n",
    "FROM questions q\n",
    "JOIN question_tags qt ON q.Id = qt.Id\n",
    "GROUP BY Tag\n",
    "\"\"\")\n"
   ]
  },
  {
   "cell_type": "code",
   "execution_count": 39,
   "metadata": {},
   "outputs": [],
   "source": [
    "top_tags.write.parquet(\"data/parquet/top_tags_sql.parquet\")"
   ]
  },
  {
   "cell_type": "code",
   "execution_count": null,
   "metadata": {},
   "outputs": [],
   "source": []
  }
 ],
 "metadata": {
  "kernelspec": {
   "display_name": "Python 3",
   "language": "python",
   "name": "python3"
  },
  "language_info": {
   "codemirror_mode": {
    "name": "ipython",
    "version": 3
   },
   "file_extension": ".py",
   "mimetype": "text/x-python",
   "name": "python",
   "nbconvert_exporter": "python",
   "pygments_lexer": "ipython3",
   "version": "3.7.4"
  }
 },
 "nbformat": 4,
 "nbformat_minor": 2
}
